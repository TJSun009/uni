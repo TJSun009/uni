{
  "nbformat": 4,
  "nbformat_minor": 0,
  "metadata": {
    "colab": {
      "provenance": [],
      "collapsed_sections": [
        "17uenMMaSE0z"
      ],
      "mount_file_id": "1720bulvzo4vJuXUHGdubagFAiEfjJtdj",
      "authorship_tag": "ABX9TyPLNYgZIjdbQbG5QAP55kw2",
      "include_colab_link": true
    },
    "kernelspec": {
      "name": "python3",
      "display_name": "Python 3"
    },
    "language_info": {
      "name": "python"
    },
    "widgets": {
      "application/vnd.jupyter.widget-state+json": {
        "dba08d4e235049298a634f2b7534b78e": {
          "model_module": "@jupyter-widgets/controls",
          "model_name": "VBoxModel",
          "model_module_version": "1.5.0",
          "state": {
            "_dom_classes": [],
            "_model_module": "@jupyter-widgets/controls",
            "_model_module_version": "1.5.0",
            "_model_name": "VBoxModel",
            "_view_count": null,
            "_view_module": "@jupyter-widgets/controls",
            "_view_module_version": "1.5.0",
            "_view_name": "VBoxView",
            "box_style": "",
            "children": [
              "IPY_MODEL_603df42d59794916b9511d9107e8b022",
              "IPY_MODEL_8e389342dcb94f0d8cf9eabea59691f6",
              "IPY_MODEL_5cb36cab4c744958a05e8209a1c09f04",
              "IPY_MODEL_f829fe6cb6c240b8a121c725a10382a3",
              "IPY_MODEL_abff16c9d8a34948b4f5885af898e928",
              "IPY_MODEL_a236dc56ecf64b4f9531c69f8fc71f6c"
            ],
            "layout": "IPY_MODEL_e22cc709744c4483bf47edaf2be43545"
          }
        },
        "603df42d59794916b9511d9107e8b022": {
          "model_module": "@jupyter-widgets/controls",
          "model_name": "LabelModel",
          "model_module_version": "1.5.0",
          "state": {
            "_dom_classes": [],
            "_model_module": "@jupyter-widgets/controls",
            "_model_module_version": "1.5.0",
            "_model_name": "LabelModel",
            "_view_count": null,
            "_view_module": "@jupyter-widgets/controls",
            "_view_module_version": "1.5.0",
            "_view_name": "LabelView",
            "description": "",
            "description_tooltip": null,
            "layout": "IPY_MODEL_38bfaaa440cf443ebd83b96855483826",
            "placeholder": "​",
            "style": "IPY_MODEL_b46acb2e98224318b1fba57f3f084863",
            "value": "Upload your Chord .wav file"
          }
        },
        "8e389342dcb94f0d8cf9eabea59691f6": {
          "model_module": "@jupyter-widgets/controls",
          "model_name": "FileUploadModel",
          "model_module_version": "1.5.0",
          "state": {
            "_counter": 2,
            "_dom_classes": [],
            "_model_module": "@jupyter-widgets/controls",
            "_model_module_version": "1.5.0",
            "_model_name": "FileUploadModel",
            "_view_count": null,
            "_view_module": "@jupyter-widgets/controls",
            "_view_module_version": "1.5.0",
            "_view_name": "FileUploadView",
            "accept": ".wav",
            "button_style": "",
            "data": [
              null
            ],
            "description": "Upload",
            "description_tooltip": null,
            "disabled": false,
            "error": "",
            "icon": "upload",
            "layout": "IPY_MODEL_3aca5ef23137420f92b252649fefea40",
            "metadata": [
              {
                "name": "1_11_Minor.wav",
                "type": "audio/wav",
                "size": 371076,
                "lastModified": 1667309820588
              }
            ],
            "multiple": false,
            "style": "IPY_MODEL_8bf7335a216b4efbaaae39e0736a9b78"
          }
        },
        "5cb36cab4c744958a05e8209a1c09f04": {
          "model_module": "@jupyter-widgets/controls",
          "model_name": "ButtonModel",
          "model_module_version": "1.5.0",
          "state": {
            "_dom_classes": [],
            "_model_module": "@jupyter-widgets/controls",
            "_model_module_version": "1.5.0",
            "_model_name": "ButtonModel",
            "_view_count": null,
            "_view_module": "@jupyter-widgets/controls",
            "_view_module_version": "1.5.0",
            "_view_name": "ButtonView",
            "button_style": "",
            "description": "Classify",
            "disabled": false,
            "icon": "",
            "layout": "IPY_MODEL_48c02c46d22540578cb2a9be71c4f180",
            "style": "IPY_MODEL_cd6ebdbf9e5c4aafb3d6357d6ed42d40",
            "tooltip": ""
          }
        },
        "f829fe6cb6c240b8a121c725a10382a3": {
          "model_module": "@jupyter-widgets/output",
          "model_name": "OutputModel",
          "model_module_version": "1.0.0",
          "state": {
            "_dom_classes": [],
            "_model_module": "@jupyter-widgets/output",
            "_model_module_version": "1.0.0",
            "_model_name": "OutputModel",
            "_view_count": null,
            "_view_module": "@jupyter-widgets/output",
            "_view_module_version": "1.0.0",
            "_view_name": "OutputView",
            "layout": "IPY_MODEL_65946de2a5fd435f956c06146f8416c5",
            "msg_id": "",
            "outputs": [
              {
                "output_type": "display_data",
                "data": {
                  "text/plain": "<PIL.Image.Image image mode=RGB size=128x85>",
                  "image/png": "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\n"
                },
                "metadata": {}
              }
            ]
          }
        },
        "abff16c9d8a34948b4f5885af898e928": {
          "model_module": "@jupyter-widgets/controls",
          "model_name": "AudioModel",
          "model_module_version": "1.5.0",
          "state": {
            "_dom_classes": [],
            "_model_module": "@jupyter-widgets/controls",
            "_model_module_version": "1.5.0",
            "_model_name": "AudioModel",
            "_view_count": null,
            "_view_module": "@jupyter-widgets/controls",
            "_view_module_version": "1.5.0",
            "_view_name": "AudioView",
            "autoplay": true,
            "controls": true,
            "format": "wav",
            "layout": "IPY_MODEL_3180f1a692044b878693b49761473e00",
            "loop": true
          }
        },
        "a236dc56ecf64b4f9531c69f8fc71f6c": {
          "model_module": "@jupyter-widgets/controls",
          "model_name": "LabelModel",
          "model_module_version": "1.5.0",
          "state": {
            "_dom_classes": [],
            "_model_module": "@jupyter-widgets/controls",
            "_model_module_version": "1.5.0",
            "_model_name": "LabelModel",
            "_view_count": null,
            "_view_module": "@jupyter-widgets/controls",
            "_view_module_version": "1.5.0",
            "_view_name": "LabelView",
            "description": "",
            "description_tooltip": null,
            "layout": "IPY_MODEL_f2af58bceea54ce0a47ff1582cb11f9d",
            "placeholder": "​",
            "style": "IPY_MODEL_7ad46672629b4036a351edb004125945",
            "value": "Prediction: Minor; Probability: 0.9640"
          }
        },
        "e22cc709744c4483bf47edaf2be43545": {
          "model_module": "@jupyter-widgets/base",
          "model_name": "LayoutModel",
          "model_module_version": "1.2.0",
          "state": {
            "_model_module": "@jupyter-widgets/base",
            "_model_module_version": "1.2.0",
            "_model_name": "LayoutModel",
            "_view_count": null,
            "_view_module": "@jupyter-widgets/base",
            "_view_module_version": "1.2.0",
            "_view_name": "LayoutView",
            "align_content": null,
            "align_items": null,
            "align_self": null,
            "border": null,
            "bottom": null,
            "display": null,
            "flex": null,
            "flex_flow": null,
            "grid_area": null,
            "grid_auto_columns": null,
            "grid_auto_flow": null,
            "grid_auto_rows": null,
            "grid_column": null,
            "grid_gap": null,
            "grid_row": null,
            "grid_template_areas": null,
            "grid_template_columns": null,
            "grid_template_rows": null,
            "height": null,
            "justify_content": null,
            "justify_items": null,
            "left": null,
            "margin": null,
            "max_height": null,
            "max_width": null,
            "min_height": null,
            "min_width": null,
            "object_fit": null,
            "object_position": null,
            "order": null,
            "overflow": null,
            "overflow_x": null,
            "overflow_y": null,
            "padding": null,
            "right": null,
            "top": null,
            "visibility": null,
            "width": null
          }
        },
        "38bfaaa440cf443ebd83b96855483826": {
          "model_module": "@jupyter-widgets/base",
          "model_name": "LayoutModel",
          "model_module_version": "1.2.0",
          "state": {
            "_model_module": "@jupyter-widgets/base",
            "_model_module_version": "1.2.0",
            "_model_name": "LayoutModel",
            "_view_count": null,
            "_view_module": "@jupyter-widgets/base",
            "_view_module_version": "1.2.0",
            "_view_name": "LayoutView",
            "align_content": null,
            "align_items": null,
            "align_self": null,
            "border": null,
            "bottom": null,
            "display": null,
            "flex": null,
            "flex_flow": null,
            "grid_area": null,
            "grid_auto_columns": null,
            "grid_auto_flow": null,
            "grid_auto_rows": null,
            "grid_column": null,
            "grid_gap": null,
            "grid_row": null,
            "grid_template_areas": null,
            "grid_template_columns": null,
            "grid_template_rows": null,
            "height": null,
            "justify_content": null,
            "justify_items": null,
            "left": null,
            "margin": null,
            "max_height": null,
            "max_width": null,
            "min_height": null,
            "min_width": null,
            "object_fit": null,
            "object_position": null,
            "order": null,
            "overflow": null,
            "overflow_x": null,
            "overflow_y": null,
            "padding": null,
            "right": null,
            "top": null,
            "visibility": null,
            "width": null
          }
        },
        "b46acb2e98224318b1fba57f3f084863": {
          "model_module": "@jupyter-widgets/controls",
          "model_name": "DescriptionStyleModel",
          "model_module_version": "1.5.0",
          "state": {
            "_model_module": "@jupyter-widgets/controls",
            "_model_module_version": "1.5.0",
            "_model_name": "DescriptionStyleModel",
            "_view_count": null,
            "_view_module": "@jupyter-widgets/base",
            "_view_module_version": "1.2.0",
            "_view_name": "StyleView",
            "description_width": ""
          }
        },
        "3aca5ef23137420f92b252649fefea40": {
          "model_module": "@jupyter-widgets/base",
          "model_name": "LayoutModel",
          "model_module_version": "1.2.0",
          "state": {
            "_model_module": "@jupyter-widgets/base",
            "_model_module_version": "1.2.0",
            "_model_name": "LayoutModel",
            "_view_count": null,
            "_view_module": "@jupyter-widgets/base",
            "_view_module_version": "1.2.0",
            "_view_name": "LayoutView",
            "align_content": null,
            "align_items": null,
            "align_self": null,
            "border": null,
            "bottom": null,
            "display": null,
            "flex": null,
            "flex_flow": null,
            "grid_area": null,
            "grid_auto_columns": null,
            "grid_auto_flow": null,
            "grid_auto_rows": null,
            "grid_column": null,
            "grid_gap": null,
            "grid_row": null,
            "grid_template_areas": null,
            "grid_template_columns": null,
            "grid_template_rows": null,
            "height": null,
            "justify_content": null,
            "justify_items": null,
            "left": null,
            "margin": null,
            "max_height": null,
            "max_width": null,
            "min_height": null,
            "min_width": null,
            "object_fit": null,
            "object_position": null,
            "order": null,
            "overflow": null,
            "overflow_x": null,
            "overflow_y": null,
            "padding": null,
            "right": null,
            "top": null,
            "visibility": null,
            "width": null
          }
        },
        "8bf7335a216b4efbaaae39e0736a9b78": {
          "model_module": "@jupyter-widgets/controls",
          "model_name": "ButtonStyleModel",
          "model_module_version": "1.5.0",
          "state": {
            "_model_module": "@jupyter-widgets/controls",
            "_model_module_version": "1.5.0",
            "_model_name": "ButtonStyleModel",
            "_view_count": null,
            "_view_module": "@jupyter-widgets/base",
            "_view_module_version": "1.2.0",
            "_view_name": "StyleView",
            "button_color": null,
            "font_weight": ""
          }
        },
        "48c02c46d22540578cb2a9be71c4f180": {
          "model_module": "@jupyter-widgets/base",
          "model_name": "LayoutModel",
          "model_module_version": "1.2.0",
          "state": {
            "_model_module": "@jupyter-widgets/base",
            "_model_module_version": "1.2.0",
            "_model_name": "LayoutModel",
            "_view_count": null,
            "_view_module": "@jupyter-widgets/base",
            "_view_module_version": "1.2.0",
            "_view_name": "LayoutView",
            "align_content": null,
            "align_items": null,
            "align_self": null,
            "border": null,
            "bottom": null,
            "display": null,
            "flex": null,
            "flex_flow": null,
            "grid_area": null,
            "grid_auto_columns": null,
            "grid_auto_flow": null,
            "grid_auto_rows": null,
            "grid_column": null,
            "grid_gap": null,
            "grid_row": null,
            "grid_template_areas": null,
            "grid_template_columns": null,
            "grid_template_rows": null,
            "height": null,
            "justify_content": null,
            "justify_items": null,
            "left": null,
            "margin": null,
            "max_height": null,
            "max_width": null,
            "min_height": null,
            "min_width": null,
            "object_fit": null,
            "object_position": null,
            "order": null,
            "overflow": null,
            "overflow_x": null,
            "overflow_y": null,
            "padding": null,
            "right": null,
            "top": null,
            "visibility": null,
            "width": null
          }
        },
        "cd6ebdbf9e5c4aafb3d6357d6ed42d40": {
          "model_module": "@jupyter-widgets/controls",
          "model_name": "ButtonStyleModel",
          "model_module_version": "1.5.0",
          "state": {
            "_model_module": "@jupyter-widgets/controls",
            "_model_module_version": "1.5.0",
            "_model_name": "ButtonStyleModel",
            "_view_count": null,
            "_view_module": "@jupyter-widgets/base",
            "_view_module_version": "1.2.0",
            "_view_name": "StyleView",
            "button_color": null,
            "font_weight": ""
          }
        },
        "3180f1a692044b878693b49761473e00": {
          "model_module": "@jupyter-widgets/base",
          "model_name": "LayoutModel",
          "model_module_version": "1.2.0",
          "state": {
            "_model_module": "@jupyter-widgets/base",
            "_model_module_version": "1.2.0",
            "_model_name": "LayoutModel",
            "_view_count": null,
            "_view_module": "@jupyter-widgets/base",
            "_view_module_version": "1.2.0",
            "_view_name": "LayoutView",
            "align_content": null,
            "align_items": null,
            "align_self": null,
            "border": null,
            "bottom": null,
            "display": null,
            "flex": null,
            "flex_flow": null,
            "grid_area": null,
            "grid_auto_columns": null,
            "grid_auto_flow": null,
            "grid_auto_rows": null,
            "grid_column": null,
            "grid_gap": null,
            "grid_row": null,
            "grid_template_areas": null,
            "grid_template_columns": null,
            "grid_template_rows": null,
            "height": null,
            "justify_content": null,
            "justify_items": null,
            "left": null,
            "margin": null,
            "max_height": null,
            "max_width": null,
            "min_height": null,
            "min_width": null,
            "object_fit": null,
            "object_position": null,
            "order": null,
            "overflow": null,
            "overflow_x": null,
            "overflow_y": null,
            "padding": null,
            "right": null,
            "top": null,
            "visibility": null,
            "width": null
          }
        },
        "f2af58bceea54ce0a47ff1582cb11f9d": {
          "model_module": "@jupyter-widgets/base",
          "model_name": "LayoutModel",
          "model_module_version": "1.2.0",
          "state": {
            "_model_module": "@jupyter-widgets/base",
            "_model_module_version": "1.2.0",
            "_model_name": "LayoutModel",
            "_view_count": null,
            "_view_module": "@jupyter-widgets/base",
            "_view_module_version": "1.2.0",
            "_view_name": "LayoutView",
            "align_content": null,
            "align_items": null,
            "align_self": null,
            "border": null,
            "bottom": null,
            "display": null,
            "flex": null,
            "flex_flow": null,
            "grid_area": null,
            "grid_auto_columns": null,
            "grid_auto_flow": null,
            "grid_auto_rows": null,
            "grid_column": null,
            "grid_gap": null,
            "grid_row": null,
            "grid_template_areas": null,
            "grid_template_columns": null,
            "grid_template_rows": null,
            "height": null,
            "justify_content": null,
            "justify_items": null,
            "left": null,
            "margin": null,
            "max_height": null,
            "max_width": null,
            "min_height": null,
            "min_width": null,
            "object_fit": null,
            "object_position": null,
            "order": null,
            "overflow": null,
            "overflow_x": null,
            "overflow_y": null,
            "padding": null,
            "right": null,
            "top": null,
            "visibility": null,
            "width": null
          }
        },
        "7ad46672629b4036a351edb004125945": {
          "model_module": "@jupyter-widgets/controls",
          "model_name": "DescriptionStyleModel",
          "model_module_version": "1.5.0",
          "state": {
            "_model_module": "@jupyter-widgets/controls",
            "_model_module_version": "1.5.0",
            "_model_name": "DescriptionStyleModel",
            "_view_count": null,
            "_view_module": "@jupyter-widgets/base",
            "_view_module_version": "1.2.0",
            "_view_name": "StyleView",
            "description_width": ""
          }
        },
        "65946de2a5fd435f956c06146f8416c5": {
          "model_module": "@jupyter-widgets/base",
          "model_name": "LayoutModel",
          "model_module_version": "1.2.0",
          "state": {
            "_model_module": "@jupyter-widgets/base",
            "_model_module_version": "1.2.0",
            "_model_name": "LayoutModel",
            "_view_count": null,
            "_view_module": "@jupyter-widgets/base",
            "_view_module_version": "1.2.0",
            "_view_name": "LayoutView",
            "align_content": null,
            "align_items": null,
            "align_self": null,
            "border": null,
            "bottom": null,
            "display": null,
            "flex": null,
            "flex_flow": null,
            "grid_area": null,
            "grid_auto_columns": null,
            "grid_auto_flow": null,
            "grid_auto_rows": null,
            "grid_column": null,
            "grid_gap": null,
            "grid_row": null,
            "grid_template_areas": null,
            "grid_template_columns": null,
            "grid_template_rows": null,
            "height": null,
            "justify_content": null,
            "justify_items": null,
            "left": null,
            "margin": null,
            "max_height": null,
            "max_width": null,
            "min_height": null,
            "min_width": null,
            "object_fit": null,
            "object_position": null,
            "order": null,
            "overflow": null,
            "overflow_x": null,
            "overflow_y": null,
            "padding": null,
            "right": null,
            "top": null,
            "visibility": null,
            "width": null
          }
        }
      }
    }
  },
  "cells": [
    {
      "cell_type": "markdown",
      "metadata": {
        "id": "view-in-github",
        "colab_type": "text"
      },
      "source": [
        "<a href=\"https://colab.research.google.com/github/TJSun009/University-Projects/blob/main/Chord_Classifier_App.ipynb\" target=\"_parent\"><img src=\"https://colab.research.google.com/assets/colab-badge.svg\" alt=\"Open In Colab\"/></a>"
      ]
    },
    {
      "cell_type": "markdown",
      "metadata": {
        "id": "17uenMMaSE0z"
      },
      "source": [
        "## Import Fast.ai Libraries"
      ]
    },
    {
      "cell_type": "code",
      "execution_count": 54,
      "metadata": {
        "id": "9haHMsf0sp_P"
      },
      "outputs": [],
      "source": [
        "!pip install -Uqq fastai\n",
        "from fastcore.all import *\n",
        "from fastai.vision.all import *\n",
        "from fastai.vision.widgets import *"
      ]
    },
    {
      "cell_type": "markdown",
      "source": [
        "## Import Voila"
      ],
      "metadata": {
        "id": "DDXaLCPUaogg"
      }
    },
    {
      "cell_type": "code",
      "source": [
        "!pip install voila\n",
        "!jupyter serverextension enable --sys-prefix voila"
      ],
      "metadata": {
        "colab": {
          "base_uri": "https://localhost:8080/",
          "height": 1000
        },
        "id": "7XpIcs_javL_",
        "outputId": "b26b3f9f-ffb6-41f1-eedd-bc5f20e07b47"
      },
      "execution_count": 64,
      "outputs": [
        {
          "output_type": "stream",
          "name": "stdout",
          "text": [
            "Looking in indexes: https://pypi.org/simple, https://us-python.pkg.dev/colab-wheels/public/simple/\n",
            "Collecting voila\n",
            "  Downloading voila-0.4.0-py3-none-any.whl (5.5 MB)\n",
            "\u001b[K     |████████████████████████████████| 5.5 MB 4.6 MB/s \n",
            "\u001b[?25hCollecting jupyterlab-server<3,>=2.3.0\n",
            "  Downloading jupyterlab_server-2.16.2-py3-none-any.whl (54 kB)\n",
            "\u001b[K     |████████████████████████████████| 54 kB 2.5 MB/s \n",
            "\u001b[?25hRequirement already satisfied: jupyter-core>=4.11.0 in /usr/local/lib/python3.7/dist-packages (from voila) (4.11.2)\n",
            "Requirement already satisfied: traitlets<6,>=5.0.3 in /usr/local/lib/python3.7/dist-packages (from voila) (5.1.1)\n",
            "Collecting nbclient<0.8,>=0.4.0\n",
            "  Downloading nbclient-0.7.0-py3-none-any.whl (71 kB)\n",
            "\u001b[K     |████████████████████████████████| 71 kB 188 kB/s \n",
            "\u001b[?25hCollecting jupyter-server<2.0.0,>=1.18\n",
            "  Downloading jupyter_server-1.21.0-py3-none-any.whl (346 kB)\n",
            "\u001b[K     |████████████████████████████████| 346 kB 57.3 MB/s \n",
            "\u001b[?25hCollecting websockets>=9.0\n",
            "  Downloading websockets-10.4-cp37-cp37m-manylinux_2_5_x86_64.manylinux1_x86_64.manylinux_2_17_x86_64.manylinux2014_x86_64.whl (106 kB)\n",
            "\u001b[K     |████████████████████████████████| 106 kB 59.3 MB/s \n",
            "\u001b[?25hCollecting nbconvert<8,>=6.4.5\n",
            "  Downloading nbconvert-7.2.3-py3-none-any.whl (273 kB)\n",
            "\u001b[K     |████████████████████████████████| 273 kB 67.0 MB/s \n",
            "\u001b[?25hRequirement already satisfied: jupyter-client<=7.4.1,>=6.1.3 in /usr/local/lib/python3.7/dist-packages (from voila) (6.1.12)\n",
            "Requirement already satisfied: tornado>=4.1 in /usr/local/lib/python3.7/dist-packages (from jupyter-client<=7.4.1,>=6.1.3->voila) (5.1.1)\n",
            "Requirement already satisfied: pyzmq>=13 in /usr/local/lib/python3.7/dist-packages (from jupyter-client<=7.4.1,>=6.1.3->voila) (23.2.1)\n",
            "Requirement already satisfied: python-dateutil>=2.1 in /usr/local/lib/python3.7/dist-packages (from jupyter-client<=7.4.1,>=6.1.3->voila) (2.8.2)\n",
            "Requirement already satisfied: terminado>=0.8.3 in /usr/local/lib/python3.7/dist-packages (from jupyter-server<2.0.0,>=1.18->voila) (0.13.3)\n",
            "Requirement already satisfied: jinja2 in /usr/local/lib/python3.7/dist-packages (from jupyter-server<2.0.0,>=1.18->voila) (2.11.3)\n",
            "Collecting websocket-client\n",
            "  Downloading websocket_client-1.4.1-py3-none-any.whl (55 kB)\n",
            "\u001b[K     |████████████████████████████████| 55 kB 3.1 MB/s \n",
            "\u001b[?25hCollecting anyio<4,>=3.1.0\n",
            "  Downloading anyio-3.6.2-py3-none-any.whl (80 kB)\n",
            "\u001b[K     |████████████████████████████████| 80 kB 8.8 MB/s \n",
            "\u001b[?25hRequirement already satisfied: nbformat>=5.2.0 in /usr/local/lib/python3.7/dist-packages (from jupyter-server<2.0.0,>=1.18->voila) (5.7.0)\n",
            "Requirement already satisfied: Send2Trash in /usr/local/lib/python3.7/dist-packages (from jupyter-server<2.0.0,>=1.18->voila) (1.8.0)\n",
            "Requirement already satisfied: packaging in /usr/local/lib/python3.7/dist-packages (from jupyter-server<2.0.0,>=1.18->voila) (21.3)\n",
            "Collecting tornado>=4.1\n",
            "  Downloading tornado-6.2-cp37-abi3-manylinux_2_5_x86_64.manylinux1_x86_64.manylinux_2_17_x86_64.manylinux2014_x86_64.whl (423 kB)\n",
            "\u001b[K     |████████████████████████████████| 423 kB 58.4 MB/s \n",
            "\u001b[?25hCollecting argon2-cffi\n",
            "  Downloading argon2_cffi-21.3.0-py3-none-any.whl (14 kB)\n",
            "Collecting prometheus-client\n",
            "  Downloading prometheus_client-0.15.0-py3-none-any.whl (60 kB)\n",
            "\u001b[K     |████████████████████████████████| 60 kB 6.4 MB/s \n",
            "\u001b[?25hRequirement already satisfied: typing-extensions in /usr/local/lib/python3.7/dist-packages (from anyio<4,>=3.1.0->jupyter-server<2.0.0,>=1.18->voila) (4.1.1)\n",
            "Collecting sniffio>=1.1\n",
            "  Downloading sniffio-1.3.0-py3-none-any.whl (10 kB)\n",
            "Requirement already satisfied: idna>=2.8 in /usr/local/lib/python3.7/dist-packages (from anyio<4,>=3.1.0->jupyter-server<2.0.0,>=1.18->voila) (2.10)\n",
            "Collecting json5\n",
            "  Downloading json5-0.9.10-py2.py3-none-any.whl (19 kB)\n",
            "Requirement already satisfied: requests in /usr/local/lib/python3.7/dist-packages (from jupyterlab-server<3,>=2.3.0->voila) (2.23.0)\n",
            "Requirement already satisfied: babel in /usr/local/lib/python3.7/dist-packages (from jupyterlab-server<3,>=2.3.0->voila) (2.10.3)\n",
            "Collecting jinja2\n",
            "  Downloading Jinja2-3.1.2-py3-none-any.whl (133 kB)\n",
            "\u001b[K     |████████████████████████████████| 133 kB 57.5 MB/s \n",
            "\u001b[?25hRequirement already satisfied: jsonschema>=3.0.1 in /usr/local/lib/python3.7/dist-packages (from jupyterlab-server<3,>=2.3.0->voila) (4.3.3)\n",
            "Requirement already satisfied: importlib-metadata>=4.8.3 in /usr/local/lib/python3.7/dist-packages (from jupyterlab-server<3,>=2.3.0->voila) (4.13.0)\n",
            "Requirement already satisfied: zipp>=0.5 in /usr/local/lib/python3.7/dist-packages (from importlib-metadata>=4.8.3->jupyterlab-server<3,>=2.3.0->voila) (3.10.0)\n",
            "Requirement already satisfied: MarkupSafe>=2.0 in /usr/local/lib/python3.7/dist-packages (from jinja2->jupyter-server<2.0.0,>=1.18->voila) (2.0.1)\n",
            "Requirement already satisfied: importlib-resources>=1.4.0 in /usr/local/lib/python3.7/dist-packages (from jsonschema>=3.0.1->jupyterlab-server<3,>=2.3.0->voila) (5.10.0)\n",
            "Requirement already satisfied: pyrsistent!=0.17.0,!=0.17.1,!=0.17.2,>=0.14.0 in /usr/local/lib/python3.7/dist-packages (from jsonschema>=3.0.1->jupyterlab-server<3,>=2.3.0->voila) (0.18.1)\n",
            "Requirement already satisfied: attrs>=17.4.0 in /usr/local/lib/python3.7/dist-packages (from jsonschema>=3.0.1->jupyterlab-server<3,>=2.3.0->voila) (22.1.0)\n",
            "Collecting nest-asyncio\n",
            "  Downloading nest_asyncio-1.5.6-py3-none-any.whl (5.2 kB)\n",
            "Collecting traitlets<6,>=5.0.3\n",
            "  Downloading traitlets-5.5.0-py3-none-any.whl (107 kB)\n",
            "\u001b[K     |████████████████████████████████| 107 kB 58.1 MB/s \n",
            "\u001b[?25hRequirement already satisfied: pandocfilters>=1.4.1 in /usr/local/lib/python3.7/dist-packages (from nbconvert<8,>=6.4.5->voila) (1.5.0)\n",
            "Requirement already satisfied: pygments>=2.4.1 in /usr/local/lib/python3.7/dist-packages (from nbconvert<8,>=6.4.5->voila) (2.6.1)\n",
            "Requirement already satisfied: defusedxml in /usr/local/lib/python3.7/dist-packages (from nbconvert<8,>=6.4.5->voila) (0.7.1)\n",
            "Collecting mistune<3,>=2.0.3\n",
            "  Downloading mistune-2.0.4-py2.py3-none-any.whl (24 kB)\n",
            "Collecting tinycss2\n",
            "  Downloading tinycss2-1.2.1-py3-none-any.whl (21 kB)\n",
            "Collecting jupyterlab-pygments\n",
            "  Downloading jupyterlab_pygments-0.2.2-py2.py3-none-any.whl (21 kB)\n",
            "Requirement already satisfied: beautifulsoup4 in /usr/local/lib/python3.7/dist-packages (from nbconvert<8,>=6.4.5->voila) (4.6.3)\n",
            "Requirement already satisfied: bleach in /usr/local/lib/python3.7/dist-packages (from nbconvert<8,>=6.4.5->voila) (5.0.1)\n",
            "Requirement already satisfied: fastjsonschema in /usr/local/lib/python3.7/dist-packages (from nbformat>=5.2.0->jupyter-server<2.0.0,>=1.18->voila) (2.16.2)\n",
            "Requirement already satisfied: six>=1.5 in /usr/local/lib/python3.7/dist-packages (from python-dateutil>=2.1->jupyter-client<=7.4.1,>=6.1.3->voila) (1.15.0)\n",
            "Requirement already satisfied: ptyprocess in /usr/local/lib/python3.7/dist-packages (from terminado>=0.8.3->jupyter-server<2.0.0,>=1.18->voila) (0.7.0)\n",
            "Collecting argon2-cffi-bindings\n",
            "  Downloading argon2_cffi_bindings-21.2.0-cp36-abi3-manylinux_2_17_x86_64.manylinux2014_x86_64.whl (86 kB)\n",
            "\u001b[K     |████████████████████████████████| 86 kB 3.8 MB/s \n",
            "\u001b[?25hRequirement already satisfied: cffi>=1.0.1 in /usr/local/lib/python3.7/dist-packages (from argon2-cffi-bindings->argon2-cffi->jupyter-server<2.0.0,>=1.18->voila) (1.15.1)\n",
            "Requirement already satisfied: pycparser in /usr/local/lib/python3.7/dist-packages (from cffi>=1.0.1->argon2-cffi-bindings->argon2-cffi->jupyter-server<2.0.0,>=1.18->voila) (2.21)\n",
            "Requirement already satisfied: pytz>=2015.7 in /usr/local/lib/python3.7/dist-packages (from babel->jupyterlab-server<3,>=2.3.0->voila) (2022.5)\n",
            "Requirement already satisfied: webencodings in /usr/local/lib/python3.7/dist-packages (from bleach->nbconvert<8,>=6.4.5->voila) (0.5.1)\n",
            "Requirement already satisfied: pyparsing!=3.0.5,>=2.0.2 in /usr/local/lib/python3.7/dist-packages (from packaging->jupyter-server<2.0.0,>=1.18->voila) (3.0.9)\n",
            "Requirement already satisfied: certifi>=2017.4.17 in /usr/local/lib/python3.7/dist-packages (from requests->jupyterlab-server<3,>=2.3.0->voila) (2022.9.24)\n",
            "Requirement already satisfied: chardet<4,>=3.0.2 in /usr/local/lib/python3.7/dist-packages (from requests->jupyterlab-server<3,>=2.3.0->voila) (3.0.4)\n",
            "Requirement already satisfied: urllib3!=1.25.0,!=1.25.1,<1.26,>=1.21.1 in /usr/local/lib/python3.7/dist-packages (from requests->jupyterlab-server<3,>=2.3.0->voila) (1.24.3)\n",
            "Installing collected packages: traitlets, tornado, nest-asyncio, tinycss2, sniffio, nbclient, mistune, jupyterlab-pygments, jinja2, argon2-cffi-bindings, websocket-client, prometheus-client, nbconvert, argon2-cffi, anyio, jupyter-server, json5, websockets, jupyterlab-server, voila\n",
            "  Attempting uninstall: traitlets\n",
            "    Found existing installation: traitlets 5.1.1\n",
            "    Uninstalling traitlets-5.1.1:\n",
            "      Successfully uninstalled traitlets-5.1.1\n",
            "  Attempting uninstall: tornado\n",
            "    Found existing installation: tornado 5.1.1\n",
            "    Uninstalling tornado-5.1.1:\n",
            "      Successfully uninstalled tornado-5.1.1\n",
            "  Attempting uninstall: mistune\n",
            "    Found existing installation: mistune 0.8.4\n",
            "    Uninstalling mistune-0.8.4:\n",
            "      Successfully uninstalled mistune-0.8.4\n",
            "  Attempting uninstall: jinja2\n",
            "    Found existing installation: Jinja2 2.11.3\n",
            "    Uninstalling Jinja2-2.11.3:\n",
            "      Successfully uninstalled Jinja2-2.11.3\n",
            "  Attempting uninstall: nbconvert\n",
            "    Found existing installation: nbconvert 5.6.1\n",
            "    Uninstalling nbconvert-5.6.1:\n",
            "      Successfully uninstalled nbconvert-5.6.1\n",
            "\u001b[31mERROR: pip's dependency resolver does not currently take into account all the packages that are installed. This behaviour is the source of the following dependency conflicts.\n",
            "ipython 7.9.0 requires jedi>=0.10, which is not installed.\n",
            "google-colab 1.0.0 requires tornado~=5.1.0, but you have tornado 6.2 which is incompatible.\n",
            "flask 1.1.4 requires Jinja2<3.0,>=2.10.1, but you have jinja2 3.1.2 which is incompatible.\u001b[0m\n",
            "Successfully installed anyio-3.6.2 argon2-cffi-21.3.0 argon2-cffi-bindings-21.2.0 jinja2-3.1.2 json5-0.9.10 jupyter-server-1.21.0 jupyterlab-pygments-0.2.2 jupyterlab-server-2.16.2 mistune-2.0.4 nbclient-0.7.0 nbconvert-7.2.3 nest-asyncio-1.5.6 prometheus-client-0.15.0 sniffio-1.3.0 tinycss2-1.2.1 tornado-6.2 traitlets-5.5.0 voila-0.4.0 websocket-client-1.4.1 websockets-10.4\n"
          ]
        },
        {
          "output_type": "display_data",
          "data": {
            "application/vnd.colab-display-data+json": {
              "pip_warning": {
                "packages": [
                  "tornado"
                ]
              }
            }
          },
          "metadata": {}
        },
        {
          "output_type": "stream",
          "name": "stdout",
          "text": [
            "Enabling: voila\n",
            "- Writing config: /usr/etc/jupyter\n",
            "    - Validating...\n",
            "      voila 0.4.0 \u001b[32mOK\u001b[0m\n"
          ]
        }
      ]
    },
    {
      "cell_type": "markdown",
      "metadata": {
        "id": "vfF4Ehk2NB4O"
      },
      "source": [
        "## Audio to Image Transform\n",
        "\n"
      ]
    },
    {
      "cell_type": "code",
      "execution_count": 56,
      "metadata": {
        "id": "MggE-68aDmM_"
      },
      "outputs": [],
      "source": [
        "import matplotlib.pyplot as plt\n",
        "import numpy as np\n",
        "import wave\n",
        "import librosa\n",
        "import librosa.display\n",
        "\n",
        "def save_mel_spectogram(audio_file, dest=''):\n",
        "    # Adapted from https://towardsdatascience.com/audio-deep-learning-made-simple-part-2-why-mel-spectrograms-perform-better-aad889a93505\n",
        "\n",
        "    samples, sample_rate = librosa.load(audio_file, sr=None)\n",
        "\n",
        "    # std spectogram\n",
        "    sgram = librosa.stft(samples)\n",
        "\n",
        "    # use the mel-scale instead of raw frequency\n",
        "    sgram_mag, _ = librosa.magphase(sgram)\n",
        "    mel_scale_sgram = librosa.feature.melspectrogram(S=sgram_mag, sr=sample_rate)\n",
        "    \n",
        "    # use the decibel scale to get the final Mel Spectrogram\n",
        "    mel_sgram = librosa.amplitude_to_db(mel_scale_sgram, ref=np.min)\n",
        "    librosa.display.specshow(mel_sgram, sr=sample_rate)\n",
        "    \n",
        "    plt.axis('off')\n",
        "\n",
        "    path = f\"{(dest if dest else audio_file).replace('.wav', '.png')}\"\n",
        "    plt.savefig(path)\n",
        "    plt.close()\n",
        "    return path"
      ]
    },
    {
      "cell_type": "markdown",
      "source": [
        "## Import Model"
      ],
      "metadata": {
        "id": "iNp-6O284a7V"
      }
    },
    {
      "cell_type": "code",
      "source": [
        "path = Path(\"/content/drive/MyDrive/Year 3/Dissertation/Projects/Training/Fast.ai/Lesson_1/\")\n",
        "learn_inf = load_learner(path/'export.pkl')"
      ],
      "metadata": {
        "id": "YAl2CGD54q0V"
      },
      "execution_count": 57,
      "outputs": []
    },
    {
      "cell_type": "markdown",
      "source": [
        "## Model Notebook App"
      ],
      "metadata": {
        "id": "SLDq6low50t3"
      }
    },
    {
      "cell_type": "markdown",
      "source": [
        "### Widgets"
      ],
      "metadata": {
        "id": "b5yrBfgcS_Xp"
      }
    },
    {
      "cell_type": "code",
      "source": [
        "btn_upload = widgets.FileUpload(accept=\".wav\")\n",
        "btn_run = widgets.Button(description=\"Classify\")\n",
        "lbl_pred = widgets.Label()\n",
        "out_pl = widgets.Output()\n",
        "out_so = widgets.Audio(format=\"wav\")"
      ],
      "metadata": {
        "id": "GSHJq1Ds6AN-"
      },
      "execution_count": 61,
      "outputs": []
    },
    {
      "cell_type": "markdown",
      "source": [
        "### Upload"
      ],
      "metadata": {
        "id": "8zghsmn3UZ1B"
      }
    },
    {
      "cell_type": "code",
      "source": [
        "def classify_chord(change):\n",
        "\n",
        "  path = Path(\"/content/\")\n",
        "\n",
        "  fname = btn_upload.metadata[0]['name']\n",
        "\n",
        "  # print(fname)\n",
        "  # print(btn_upload.value[fname][\"content\"])\n",
        "  # print(btn_upload.content)\n",
        "\n",
        "  content = btn_upload.value[fname][\"content\"]\n",
        "\n",
        "  with open(f\"{path}/{fname}\", mode='bx') as file:\n",
        "    file.write(content)\n",
        "\n",
        "  spectrogram = save_mel_spectogram(f\"{path}/{fname}\")\n",
        "\n",
        "  img = PILImage.create(spectrogram)\n",
        "  out_pl.clear_output()\n",
        "  out_so.set_value_from_file(f\"{path}/{fname}\")\n",
        "  with out_pl: display(img.to_thumb(128,128))\n",
        "  pred,pred_idx,probs = learn_inf.predict(img)\n",
        "  lbl_pred.value = f'Prediction: {pred}; Probability: {probs[pred_idx]:.04f}'"
      ],
      "metadata": {
        "id": "ky1ePbI6TMZ6"
      },
      "execution_count": 62,
      "outputs": []
    },
    {
      "cell_type": "code",
      "source": [
        "btn_run.on_click(classify_chord)\n",
        "VBox([widgets.Label('Upload your Chord .wav file'), btn_upload, btn_run, out_pl, out_so, lbl_pred])"
      ],
      "metadata": {
        "id": "jApa6glnUog4",
        "colab": {
          "base_uri": "https://localhost:8080/",
          "height": 288,
          "referenced_widgets": [
            "dba08d4e235049298a634f2b7534b78e",
            "603df42d59794916b9511d9107e8b022",
            "8e389342dcb94f0d8cf9eabea59691f6",
            "5cb36cab4c744958a05e8209a1c09f04",
            "f829fe6cb6c240b8a121c725a10382a3",
            "abff16c9d8a34948b4f5885af898e928",
            "a236dc56ecf64b4f9531c69f8fc71f6c",
            "e22cc709744c4483bf47edaf2be43545",
            "38bfaaa440cf443ebd83b96855483826",
            "b46acb2e98224318b1fba57f3f084863",
            "3aca5ef23137420f92b252649fefea40",
            "8bf7335a216b4efbaaae39e0736a9b78",
            "48c02c46d22540578cb2a9be71c4f180",
            "cd6ebdbf9e5c4aafb3d6357d6ed42d40",
            "3180f1a692044b878693b49761473e00",
            "f2af58bceea54ce0a47ff1582cb11f9d",
            "7ad46672629b4036a351edb004125945",
            "65946de2a5fd435f956c06146f8416c5"
          ]
        },
        "outputId": "dc962ab7-3ced-4037-b26c-752b8a2f60f0"
      },
      "execution_count": 63,
      "outputs": [
        {
          "output_type": "display_data",
          "data": {
            "text/plain": [
              "VBox(children=(Label(value='Upload your Chord .wav file'), FileUpload(value={}, accept='.wav', description='Up…"
            ],
            "application/vnd.jupyter.widget-view+json": {
              "version_major": 2,
              "version_minor": 0,
              "model_id": "dba08d4e235049298a634f2b7534b78e"
            }
          },
          "metadata": {}
        },
        {
          "output_type": "display_data",
          "data": {
            "text/plain": [
              "<IPython.core.display.HTML object>"
            ],
            "text/html": [
              "\n",
              "<style>\n",
              "    /* Turns off some styling */\n",
              "    progress {\n",
              "        /* gets rid of default border in Firefox and Opera. */\n",
              "        border: none;\n",
              "        /* Needs to be in here for Safari polyfill so background images work as expected. */\n",
              "        background-size: auto;\n",
              "    }\n",
              "    progress:not([value]), progress:not([value])::-webkit-progress-bar {\n",
              "        background: repeating-linear-gradient(45deg, #7e7e7e, #7e7e7e 10px, #5c5c5c 10px, #5c5c5c 20px);\n",
              "    }\n",
              "    .progress-bar-interrupted, .progress-bar-interrupted::-webkit-progress-bar {\n",
              "        background: #F44336;\n",
              "    }\n",
              "</style>\n"
            ]
          },
          "metadata": {}
        },
        {
          "output_type": "display_data",
          "data": {
            "text/plain": [
              "<IPython.core.display.HTML object>"
            ],
            "text/html": []
          },
          "metadata": {}
        },
        {
          "output_type": "display_data",
          "data": {
            "text/plain": [
              "<IPython.core.display.HTML object>"
            ],
            "text/html": [
              "\n",
              "<style>\n",
              "    /* Turns off some styling */\n",
              "    progress {\n",
              "        /* gets rid of default border in Firefox and Opera. */\n",
              "        border: none;\n",
              "        /* Needs to be in here for Safari polyfill so background images work as expected. */\n",
              "        background-size: auto;\n",
              "    }\n",
              "    progress:not([value]), progress:not([value])::-webkit-progress-bar {\n",
              "        background: repeating-linear-gradient(45deg, #7e7e7e, #7e7e7e 10px, #5c5c5c 10px, #5c5c5c 20px);\n",
              "    }\n",
              "    .progress-bar-interrupted, .progress-bar-interrupted::-webkit-progress-bar {\n",
              "        background: #F44336;\n",
              "    }\n",
              "</style>\n"
            ]
          },
          "metadata": {}
        },
        {
          "output_type": "display_data",
          "data": {
            "text/plain": [
              "<IPython.core.display.HTML object>"
            ],
            "text/html": []
          },
          "metadata": {}
        }
      ]
    }
  ]
}
